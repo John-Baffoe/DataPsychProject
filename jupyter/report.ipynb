{
 "cells": [
  {
   "cell_type": "markdown",
   "metadata": {},
   "source": [
    "## Set up libraries"
   ]
  },
  {
   "cell_type": "code",
   "execution_count": 8,
   "metadata": {},
   "outputs": [],
   "source": [
    "# Import libraries\n",
    "import pandas as pd\n",
    "import statsmodels.api as sm\n",
    "import matplotlib.pyplot as plt\n",
    "import seaborn as sns\n",
    "from scipy import stats\n",
    "from statsmodels.stats.outliers_influence import variance_inflation_factor\n",
    "from statsmodels.stats.diagnostic import het_breuschpagan"
   ]
  },
  {
   "cell_type": "markdown",
   "metadata": {},
   "source": [
    "## Prepare dataset"
   ]
  },
  {
   "cell_type": "code",
   "execution_count": 9,
   "metadata": {},
   "outputs": [
    {
     "name": "stdout",
     "output_type": "stream",
     "text": [
      "Data loaded and cleaned:\n",
      "    SES_Label ParentalInv_Collapsed   ReadAtt_Label   ASRREA01\n",
      "32    Middle                   Low   Somewhat Like  287.92674\n",
      "33     Lower                   Low   Somewhat Like  316.19733\n",
      "34     Lower                   Low   Somewhat Like  228.33381\n",
      "35     Lower                   Low     Do Not Like  129.03025\n",
      "36     Lower                   Low  Very Much Like  393.94160\n"
     ]
    }
   ],
   "source": [
    "from project import task\n",
    "df = task.load_and_prepare_data()\n",
    "print(\"Data loaded and cleaned:\\n\", df.head())"
   ]
  },
  {
   "cell_type": "code",
   "execution_count": null,
   "metadata": {},
   "outputs": [
    {
     "ename": "FileNotFoundError",
     "evalue": "[Errno 2] No such file or directory: '/Users/johnbaffoe/Desktop/SOUTH AFRICA/SOUTHSOUTH.csv'",
     "output_type": "error",
     "traceback": [
      "\u001b[31m---------------------------------------------------------------------------\u001b[39m",
      "\u001b[31mFileNotFoundError\u001b[39m                         Traceback (most recent call last)",
      "\u001b[36mCell\u001b[39m\u001b[36m \u001b[39m\u001b[32mIn[7]\u001b[39m\u001b[32m, line 3\u001b[39m\n\u001b[32m      1\u001b[39m \u001b[38;5;66;03m# Load dataset\u001b[39;00m\n\u001b[32m      2\u001b[39m file_path = \u001b[33m\"\u001b[39m\u001b[33m/Users/johnbaffoe/Desktop/SOUTH AFRICA/SOUTHSOUTH.csv\u001b[39m\u001b[33m\"\u001b[39m  \u001b[38;5;66;03m# Update this path if needed\u001b[39;00m\n\u001b[32m----> \u001b[39m\u001b[32m3\u001b[39m df = \u001b[43mpd\u001b[49m\u001b[43m.\u001b[49m\u001b[43mread_csv\u001b[49m\u001b[43m(\u001b[49m\u001b[43mfile_path\u001b[49m\u001b[43m)\u001b[49m\n\u001b[32m      5\u001b[39m \u001b[38;5;66;03m# Display the first 5 rows\u001b[39;00m\n\u001b[32m      6\u001b[39m \u001b[38;5;28mprint\u001b[39m(\u001b[33m\"\u001b[39m\u001b[33mDataset Loaded. First 5 rows:\u001b[39m\u001b[38;5;130;01m\\n\u001b[39;00m\u001b[33m\"\u001b[39m, df.head())\n",
      "\u001b[36mFile \u001b[39m\u001b[32m~/Desktop/SOUTH AFRICA/DataPsychProject-1/.venv/lib/python3.12/site-packages/pandas/io/parsers/readers.py:1026\u001b[39m, in \u001b[36mread_csv\u001b[39m\u001b[34m(filepath_or_buffer, sep, delimiter, header, names, index_col, usecols, dtype, engine, converters, true_values, false_values, skipinitialspace, skiprows, skipfooter, nrows, na_values, keep_default_na, na_filter, verbose, skip_blank_lines, parse_dates, infer_datetime_format, keep_date_col, date_parser, date_format, dayfirst, cache_dates, iterator, chunksize, compression, thousands, decimal, lineterminator, quotechar, quoting, doublequote, escapechar, comment, encoding, encoding_errors, dialect, on_bad_lines, delim_whitespace, low_memory, memory_map, float_precision, storage_options, dtype_backend)\u001b[39m\n\u001b[32m   1013\u001b[39m kwds_defaults = _refine_defaults_read(\n\u001b[32m   1014\u001b[39m     dialect,\n\u001b[32m   1015\u001b[39m     delimiter,\n\u001b[32m   (...)\u001b[39m\u001b[32m   1022\u001b[39m     dtype_backend=dtype_backend,\n\u001b[32m   1023\u001b[39m )\n\u001b[32m   1024\u001b[39m kwds.update(kwds_defaults)\n\u001b[32m-> \u001b[39m\u001b[32m1026\u001b[39m \u001b[38;5;28;01mreturn\u001b[39;00m \u001b[43m_read\u001b[49m\u001b[43m(\u001b[49m\u001b[43mfilepath_or_buffer\u001b[49m\u001b[43m,\u001b[49m\u001b[43m \u001b[49m\u001b[43mkwds\u001b[49m\u001b[43m)\u001b[49m\n",
      "\u001b[36mFile \u001b[39m\u001b[32m~/Desktop/SOUTH AFRICA/DataPsychProject-1/.venv/lib/python3.12/site-packages/pandas/io/parsers/readers.py:620\u001b[39m, in \u001b[36m_read\u001b[39m\u001b[34m(filepath_or_buffer, kwds)\u001b[39m\n\u001b[32m    617\u001b[39m _validate_names(kwds.get(\u001b[33m\"\u001b[39m\u001b[33mnames\u001b[39m\u001b[33m\"\u001b[39m, \u001b[38;5;28;01mNone\u001b[39;00m))\n\u001b[32m    619\u001b[39m \u001b[38;5;66;03m# Create the parser.\u001b[39;00m\n\u001b[32m--> \u001b[39m\u001b[32m620\u001b[39m parser = \u001b[43mTextFileReader\u001b[49m\u001b[43m(\u001b[49m\u001b[43mfilepath_or_buffer\u001b[49m\u001b[43m,\u001b[49m\u001b[43m \u001b[49m\u001b[43m*\u001b[49m\u001b[43m*\u001b[49m\u001b[43mkwds\u001b[49m\u001b[43m)\u001b[49m\n\u001b[32m    622\u001b[39m \u001b[38;5;28;01mif\u001b[39;00m chunksize \u001b[38;5;129;01mor\u001b[39;00m iterator:\n\u001b[32m    623\u001b[39m     \u001b[38;5;28;01mreturn\u001b[39;00m parser\n",
      "\u001b[36mFile \u001b[39m\u001b[32m~/Desktop/SOUTH AFRICA/DataPsychProject-1/.venv/lib/python3.12/site-packages/pandas/io/parsers/readers.py:1620\u001b[39m, in \u001b[36mTextFileReader.__init__\u001b[39m\u001b[34m(self, f, engine, **kwds)\u001b[39m\n\u001b[32m   1617\u001b[39m     \u001b[38;5;28mself\u001b[39m.options[\u001b[33m\"\u001b[39m\u001b[33mhas_index_names\u001b[39m\u001b[33m\"\u001b[39m] = kwds[\u001b[33m\"\u001b[39m\u001b[33mhas_index_names\u001b[39m\u001b[33m\"\u001b[39m]\n\u001b[32m   1619\u001b[39m \u001b[38;5;28mself\u001b[39m.handles: IOHandles | \u001b[38;5;28;01mNone\u001b[39;00m = \u001b[38;5;28;01mNone\u001b[39;00m\n\u001b[32m-> \u001b[39m\u001b[32m1620\u001b[39m \u001b[38;5;28mself\u001b[39m._engine = \u001b[38;5;28;43mself\u001b[39;49m\u001b[43m.\u001b[49m\u001b[43m_make_engine\u001b[49m\u001b[43m(\u001b[49m\u001b[43mf\u001b[49m\u001b[43m,\u001b[49m\u001b[43m \u001b[49m\u001b[38;5;28;43mself\u001b[39;49m\u001b[43m.\u001b[49m\u001b[43mengine\u001b[49m\u001b[43m)\u001b[49m\n",
      "\u001b[36mFile \u001b[39m\u001b[32m~/Desktop/SOUTH AFRICA/DataPsychProject-1/.venv/lib/python3.12/site-packages/pandas/io/parsers/readers.py:1880\u001b[39m, in \u001b[36mTextFileReader._make_engine\u001b[39m\u001b[34m(self, f, engine)\u001b[39m\n\u001b[32m   1878\u001b[39m     \u001b[38;5;28;01mif\u001b[39;00m \u001b[33m\"\u001b[39m\u001b[33mb\u001b[39m\u001b[33m\"\u001b[39m \u001b[38;5;129;01mnot\u001b[39;00m \u001b[38;5;129;01min\u001b[39;00m mode:\n\u001b[32m   1879\u001b[39m         mode += \u001b[33m\"\u001b[39m\u001b[33mb\u001b[39m\u001b[33m\"\u001b[39m\n\u001b[32m-> \u001b[39m\u001b[32m1880\u001b[39m \u001b[38;5;28mself\u001b[39m.handles = \u001b[43mget_handle\u001b[49m\u001b[43m(\u001b[49m\n\u001b[32m   1881\u001b[39m \u001b[43m    \u001b[49m\u001b[43mf\u001b[49m\u001b[43m,\u001b[49m\n\u001b[32m   1882\u001b[39m \u001b[43m    \u001b[49m\u001b[43mmode\u001b[49m\u001b[43m,\u001b[49m\n\u001b[32m   1883\u001b[39m \u001b[43m    \u001b[49m\u001b[43mencoding\u001b[49m\u001b[43m=\u001b[49m\u001b[38;5;28;43mself\u001b[39;49m\u001b[43m.\u001b[49m\u001b[43moptions\u001b[49m\u001b[43m.\u001b[49m\u001b[43mget\u001b[49m\u001b[43m(\u001b[49m\u001b[33;43m\"\u001b[39;49m\u001b[33;43mencoding\u001b[39;49m\u001b[33;43m\"\u001b[39;49m\u001b[43m,\u001b[49m\u001b[43m \u001b[49m\u001b[38;5;28;43;01mNone\u001b[39;49;00m\u001b[43m)\u001b[49m\u001b[43m,\u001b[49m\n\u001b[32m   1884\u001b[39m \u001b[43m    \u001b[49m\u001b[43mcompression\u001b[49m\u001b[43m=\u001b[49m\u001b[38;5;28;43mself\u001b[39;49m\u001b[43m.\u001b[49m\u001b[43moptions\u001b[49m\u001b[43m.\u001b[49m\u001b[43mget\u001b[49m\u001b[43m(\u001b[49m\u001b[33;43m\"\u001b[39;49m\u001b[33;43mcompression\u001b[39;49m\u001b[33;43m\"\u001b[39;49m\u001b[43m,\u001b[49m\u001b[43m \u001b[49m\u001b[38;5;28;43;01mNone\u001b[39;49;00m\u001b[43m)\u001b[49m\u001b[43m,\u001b[49m\n\u001b[32m   1885\u001b[39m \u001b[43m    \u001b[49m\u001b[43mmemory_map\u001b[49m\u001b[43m=\u001b[49m\u001b[38;5;28;43mself\u001b[39;49m\u001b[43m.\u001b[49m\u001b[43moptions\u001b[49m\u001b[43m.\u001b[49m\u001b[43mget\u001b[49m\u001b[43m(\u001b[49m\u001b[33;43m\"\u001b[39;49m\u001b[33;43mmemory_map\u001b[39;49m\u001b[33;43m\"\u001b[39;49m\u001b[43m,\u001b[49m\u001b[43m \u001b[49m\u001b[38;5;28;43;01mFalse\u001b[39;49;00m\u001b[43m)\u001b[49m\u001b[43m,\u001b[49m\n\u001b[32m   1886\u001b[39m \u001b[43m    \u001b[49m\u001b[43mis_text\u001b[49m\u001b[43m=\u001b[49m\u001b[43mis_text\u001b[49m\u001b[43m,\u001b[49m\n\u001b[32m   1887\u001b[39m \u001b[43m    \u001b[49m\u001b[43merrors\u001b[49m\u001b[43m=\u001b[49m\u001b[38;5;28;43mself\u001b[39;49m\u001b[43m.\u001b[49m\u001b[43moptions\u001b[49m\u001b[43m.\u001b[49m\u001b[43mget\u001b[49m\u001b[43m(\u001b[49m\u001b[33;43m\"\u001b[39;49m\u001b[33;43mencoding_errors\u001b[39;49m\u001b[33;43m\"\u001b[39;49m\u001b[43m,\u001b[49m\u001b[43m \u001b[49m\u001b[33;43m\"\u001b[39;49m\u001b[33;43mstrict\u001b[39;49m\u001b[33;43m\"\u001b[39;49m\u001b[43m)\u001b[49m\u001b[43m,\u001b[49m\n\u001b[32m   1888\u001b[39m \u001b[43m    \u001b[49m\u001b[43mstorage_options\u001b[49m\u001b[43m=\u001b[49m\u001b[38;5;28;43mself\u001b[39;49m\u001b[43m.\u001b[49m\u001b[43moptions\u001b[49m\u001b[43m.\u001b[49m\u001b[43mget\u001b[49m\u001b[43m(\u001b[49m\u001b[33;43m\"\u001b[39;49m\u001b[33;43mstorage_options\u001b[39;49m\u001b[33;43m\"\u001b[39;49m\u001b[43m,\u001b[49m\u001b[43m \u001b[49m\u001b[38;5;28;43;01mNone\u001b[39;49;00m\u001b[43m)\u001b[49m\u001b[43m,\u001b[49m\n\u001b[32m   1889\u001b[39m \u001b[43m\u001b[49m\u001b[43m)\u001b[49m\n\u001b[32m   1890\u001b[39m \u001b[38;5;28;01massert\u001b[39;00m \u001b[38;5;28mself\u001b[39m.handles \u001b[38;5;129;01mis\u001b[39;00m \u001b[38;5;129;01mnot\u001b[39;00m \u001b[38;5;28;01mNone\u001b[39;00m\n\u001b[32m   1891\u001b[39m f = \u001b[38;5;28mself\u001b[39m.handles.handle\n",
      "\u001b[36mFile \u001b[39m\u001b[32m~/Desktop/SOUTH AFRICA/DataPsychProject-1/.venv/lib/python3.12/site-packages/pandas/io/common.py:873\u001b[39m, in \u001b[36mget_handle\u001b[39m\u001b[34m(path_or_buf, mode, encoding, compression, memory_map, is_text, errors, storage_options)\u001b[39m\n\u001b[32m    868\u001b[39m \u001b[38;5;28;01melif\u001b[39;00m \u001b[38;5;28misinstance\u001b[39m(handle, \u001b[38;5;28mstr\u001b[39m):\n\u001b[32m    869\u001b[39m     \u001b[38;5;66;03m# Check whether the filename is to be opened in binary mode.\u001b[39;00m\n\u001b[32m    870\u001b[39m     \u001b[38;5;66;03m# Binary mode does not support 'encoding' and 'newline'.\u001b[39;00m\n\u001b[32m    871\u001b[39m     \u001b[38;5;28;01mif\u001b[39;00m ioargs.encoding \u001b[38;5;129;01mand\u001b[39;00m \u001b[33m\"\u001b[39m\u001b[33mb\u001b[39m\u001b[33m\"\u001b[39m \u001b[38;5;129;01mnot\u001b[39;00m \u001b[38;5;129;01min\u001b[39;00m ioargs.mode:\n\u001b[32m    872\u001b[39m         \u001b[38;5;66;03m# Encoding\u001b[39;00m\n\u001b[32m--> \u001b[39m\u001b[32m873\u001b[39m         handle = \u001b[38;5;28;43mopen\u001b[39;49m\u001b[43m(\u001b[49m\n\u001b[32m    874\u001b[39m \u001b[43m            \u001b[49m\u001b[43mhandle\u001b[49m\u001b[43m,\u001b[49m\n\u001b[32m    875\u001b[39m \u001b[43m            \u001b[49m\u001b[43mioargs\u001b[49m\u001b[43m.\u001b[49m\u001b[43mmode\u001b[49m\u001b[43m,\u001b[49m\n\u001b[32m    876\u001b[39m \u001b[43m            \u001b[49m\u001b[43mencoding\u001b[49m\u001b[43m=\u001b[49m\u001b[43mioargs\u001b[49m\u001b[43m.\u001b[49m\u001b[43mencoding\u001b[49m\u001b[43m,\u001b[49m\n\u001b[32m    877\u001b[39m \u001b[43m            \u001b[49m\u001b[43merrors\u001b[49m\u001b[43m=\u001b[49m\u001b[43merrors\u001b[49m\u001b[43m,\u001b[49m\n\u001b[32m    878\u001b[39m \u001b[43m            \u001b[49m\u001b[43mnewline\u001b[49m\u001b[43m=\u001b[49m\u001b[33;43m\"\u001b[39;49m\u001b[33;43m\"\u001b[39;49m\u001b[43m,\u001b[49m\n\u001b[32m    879\u001b[39m \u001b[43m        \u001b[49m\u001b[43m)\u001b[49m\n\u001b[32m    880\u001b[39m     \u001b[38;5;28;01melse\u001b[39;00m:\n\u001b[32m    881\u001b[39m         \u001b[38;5;66;03m# Binary mode\u001b[39;00m\n\u001b[32m    882\u001b[39m         handle = \u001b[38;5;28mopen\u001b[39m(handle, ioargs.mode)\n",
      "\u001b[31mFileNotFoundError\u001b[39m: [Errno 2] No such file or directory: '/Users/johnbaffoe/Desktop/SOUTH AFRICA/SOUTHSOUTH.csv'"
     ]
    }
   ],
   "source": [
    "# Load dataset\n",
    "file_path = \"/Users/johnbaffoe/Desktop/SOUTH AFRICA/SOUTHSOUTH.csv\"  # Update this path if needed\n",
    "df = pd.read_csv(file_path)\n",
    "\n",
    "# Display the first 5 rows\n",
    "print(\"Dataset Loaded. First 5 rows:\\n\", df.head())\n",
    "\n",
    "# ------- Recode Categorical Variables Properly ---------\n",
    "\n",
    "# Recode SES\n",
    "df['SES_Label'] = df['ASDHSES'].replace({\n",
    "    3.0: 'Lower',   # 3 = Lower SES\n",
    "    2.0: 'Middle',  # 2 = Middle SES\n",
    "    1.0: 'Higher'   # 1 = Higher SES\n",
    "})\n",
    "\n",
    "# Recode Reading Attitude\n",
    "df['ReadAtt_Label'] = df['ASDGSLR'].replace({\n",
    "    3.0: 'Do Not Like',\n",
    "    2.0: 'Somewhat Like',\n",
    "    1.0: 'Very Much Like'\n",
    "})\n",
    "\n",
    "# Collapse Parental Involvement\n",
    "df['ParentalInv_Collapsed'] = df['ACBG11F'].replace({\n",
    "    1.0: 'High',   # Very High\n",
    "    2.0: 'High',   # High\n",
    "    3.0: 'Medium', # Medium\n",
    "    4.0: 'Low',    # Low\n",
    "    5.0: 'Low'     # Very Low\n",
    "})\n",
    "\n",
    "# Convert to ordered categorical types\n",
    "df['SES_Label'] = pd.Categorical(df['SES_Label'], categories=['Lower', 'Middle', 'Higher'], ordered=True)\n",
    "df['ParentalInv_Collapsed'] = pd.Categorical(df['ParentalInv_Collapsed'], categories=['Low', 'Medium', 'High'], ordered=True)\n",
    "df['ReadAtt_Label'] = pd.Categorical(df['ReadAtt_Label'], categories=['Do Not Like', 'Somewhat Like', 'Very Much Like'], ordered=True)\n",
    "\n",
    "# Subset relevant columns\n",
    "df = df[['SES_Label', 'ParentalInv_Collapsed', 'ReadAtt_Label', 'ASRREA01']]\n"
   ]
  },
  {
   "cell_type": "code",
   "execution_count": null,
   "metadata": {},
   "outputs": [],
   "source": [
    "\n",
    "# Drop missing values\n",
    "print(\"Original dataset size:\", df.shape)\n",
    "df = df.dropna()\n",
    "print(\"After dropping NAs:\", df.shape)\n"
   ]
  },
  {
   "cell_type": "markdown",
   "metadata": {},
   "source": [
    "### Exploratory Data Analysis (EDA) and Visualization"
   ]
  },
  {
   "cell_type": "code",
   "execution_count": null,
   "metadata": {},
   "outputs": [],
   "source": [
    "\n",
    "# ----------- Descriptive Statistics -------------\n",
    "desc_stats = df.groupby(['SES_Label', 'ParentalInv_Collapsed', 'ReadAtt_Label'])['ASRREA01'].agg(['mean', 'std', 'count'])\n",
    "print(\"\\nDescriptive Statistics:\\n\", desc_stats)\n",
    "\n",
    "# ----------- Plots ----------------\n",
    "\n",
    "# Plot 1: Histogram of Reading Achievement\n",
    "plt.figure(figsize=(8, 5))\n",
    "sns.histplot(df['ASRREA01'], kde=True, bins=30, color='skyblue')\n",
    "plt.title(\"Distribution of Reading Achievement (ASRREA01)\")\n",
    "plt.xlabel(\"Reading Achievement Score\")\n",
    "plt.ylabel(\"Frequency\")\n",
    "plt.tight_layout()\n",
    "plt.show()\n",
    "\n",
    "# Plot 2: Histogram of Residuals\n",
    "residuals = model.resid\n",
    "plt.figure(figsize=(8, 5))\n",
    "sns.histplot(residuals, kde=True, bins=30, color='salmon')\n",
    "plt.title(\"Distribution of Residuals from OLS Model\")\n",
    "plt.xlabel(\"Residuals\")\n",
    "plt.ylabel(\"Frequency\")\n",
    "plt.tight_layout()\n",
    "plt.show()\n",
    "\n",
    "# Plot 3: Q-Q Plot of Residuals\n",
    "sm.qqplot(residuals, line='45', fit=True)\n",
    "plt.title(\"Q-Q Plot of Regression Residuals\")\n",
    "plt.tight_layout()\n",
    "plt.show()\n",
    "\n",
    "# Plot 4: Residuals vs. Fitted Values\n",
    "fitted_vals = model.fittedvalues\n",
    "plt.figure(figsize=(8, 5))\n",
    "sns.scatterplot(x=fitted_vals, y=residuals, alpha=0.6)\n",
    "plt.axhline(0, color='red', linestyle='--')\n",
    "plt.title(\"Residuals vs. Fitted Values\")\n",
    "plt.xlabel(\"Fitted Values\")\n",
    "plt.ylabel(\"Residuals\")\n",
    "plt.tight_layout()\n",
    "plt.show()\n",
    "\n",
    "# Plot 5: Boxplots by Categorical Variables\n",
    "fig, axes = plt.subplots(1, 3, figsize=(18, 5))\n",
    "\n",
    "sns.boxplot(ax=axes[0], x='SES_Label', y='ASRREA01', data=df)\n",
    "axes[0].set_title(\"SES vs. Reading Achievement\")\n",
    "\n",
    "sns.boxplot(ax=axes[1], x='ParentalInv_Collapsed', y='ASRREA01', data=df)\n",
    "axes[1].set_title(\"Parental Involvement vs. Reading Achievement\")\n",
    "\n",
    "sns.boxplot(ax=axes[2], x='ReadAtt_Label', y='ASRREA01', data=df)\n",
    "axes[2].set_title(\"Reading Attitude vs. Reading Achievement\")\n",
    "\n",
    "plt.tight_layout()\n",
    "plt.show()\n"
   ]
  },
  {
   "cell_type": "markdown",
   "metadata": {},
   "source": [
    "### Setup for Regression"
   ]
  },
  {
   "cell_type": "code",
   "execution_count": null,
   "metadata": {},
   "outputs": [],
   "source": [
    "\n",
    "# ----------- Dummy Coding for Regression -----------\n",
    "\n",
    "# Create dummy variables (drop_first=True to set reference group)\n",
    "df_dummies = pd.get_dummies(df, columns=['SES_Label', 'ParentalInv_Collapsed', 'ReadAtt_Label'], drop_first=True)\n",
    "\n",
    "# Define X (predictors) and y (outcome)\n",
    "X = df_dummies.drop(columns='ASRREA01')\n",
    "X = sm.add_constant(X)  # Add constant (intercept)\n",
    "y = df_dummies['ASRREA01']\n",
    "\n",
    "# Ensure numeric\n",
    "X = X.astype(float)\n",
    "y = y.astype(float)\n",
    "\n",
    "# Align X and y\n",
    "X = X.dropna()\n",
    "y = y.loc[X.index]\n",
    "\n",
    "# ----------- Fit OLS Regression -------------\n",
    "model = sm.OLS(y, X).fit()\n",
    "\n",
    "# Breusch-Pagan Test\n",
    "bp_test = het_breuschpagan(model.resid, model.model.exog)\n",
    "bp_labels = ['Lagrange multiplier statistic', 'p-value', 'f-value', 'f p-value']\n",
    "print(\"\\nBreusch-Pagan Test for Homoscedasticity:\")\n",
    "for name, val in zip(bp_labels, bp_test):\n",
    "    print(f\"{name}: {val:.4f}\")\n",
    "\n",
    "# Robust model\n",
    "robust_model = model.get_robustcov_results(cov_type='HC3')\n",
    "print(robust_model.summary())\n",
    "\n",
    "# VIF for multicollinearity\n",
    "vif_data = pd.DataFrame()\n",
    "vif_data[\"feature\"] = X.columns\n",
    "vif_data[\"VIF\"] = [variance_inflation_factor(X.values, i) for i in range(X.shape[1])]\n",
    "print(\"\\nVariance Inflation Factor (VIF):\\n\", vif_data)\n",
    "\n",
    "# OLS Regression Summary\n",
    "print(\"\\nOLS Regression Summary:\\n\", model.summary())\n"
   ]
  },
  {
   "cell_type": "markdown",
   "metadata": {},
   "source": [
    "## T-Tests for Comparing Predictor Categories "
   ]
  },
  {
   "cell_type": "code",
   "execution_count": null,
   "metadata": {},
   "outputs": [],
   "source": [
    "\n",
    "# ----------- T-Tests ---------------\n",
    "def ttest_by_category(var):\n",
    "    levels = df[var].cat.categories\n",
    "    group1 = df[df[var] == levels[0]]['ASRREA01']\n",
    "    group2 = df[df[var] == levels[-1]]['ASRREA01']\n",
    "    t_stat, p_val = stats.ttest_ind(group1, group2, equal_var=False)\n",
    "    print(f\"\\nT-test for {var}: t-statistic = {t_stat:.3f}, p-value = {p_val:.3f}\")\n",
    "\n",
    "ttest_by_category('SES_Label')\n",
    "ttest_by_category('ParentalInv_Collapsed')\n",
    "ttest_by_category('ReadAtt_Label')\n",
    "\n",
    "\n"
   ]
  }
 ],
 "metadata": {
  "kernelspec": {
   "display_name": ".venv",
   "language": "python",
   "name": "python3"
  },
  "language_info": {
   "codemirror_mode": {
    "name": "ipython",
    "version": 3
   },
   "file_extension": ".py",
   "mimetype": "text/x-python",
   "name": "python",
   "nbconvert_exporter": "python",
   "pygments_lexer": "ipython3",
   "version": "3.12.8"
  }
 },
 "nbformat": 4,
 "nbformat_minor": 2
}
